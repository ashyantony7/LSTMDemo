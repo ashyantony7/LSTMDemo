{
 "cells": [
  {
   "cell_type": "markdown",
   "metadata": {},
   "source": [
    "### Simple Time-Series Prediction with LSTM Tensorflow \n",
    "    The notebook aims to create a barebones LSTM neural network in pure Tensorflow. The network is used to predict the next value of a sine wave using previous values.\n",
    "    \n",
    "    The network can be easily customized by adding more network layers (eg. 1-D Convolutional Layers), or by adding more inputs and outputs or by increasing or reducing the number of past values the network can observe before predicting the next output."
   ]
  },
  {
   "cell_type": "code",
   "execution_count": 1,
   "metadata": {},
   "outputs": [
    {
     "name": "stderr",
     "output_type": "stream",
     "text": [
      "C:\\Users\\Anthony\\Anaconda3\\envs\\tensorflow\\lib\\site-packages\\h5py\\__init__.py:36: FutureWarning: Conversion of the second argument of issubdtype from `float` to `np.floating` is deprecated. In future, it will be treated as `np.float64 == np.dtype(float).type`.\n",
      "  from ._conv import register_converters as _register_converters\n"
     ]
    }
   ],
   "source": [
    "import tensorflow as tf\n",
    "import numpy as np\n",
    "import matplotlib.pyplot as mp\n",
    "%matplotlib inline"
   ]
  },
  {
   "cell_type": "markdown",
   "metadata": {},
   "source": [
    "#### Creating a Sine time series\n",
    "    The time series is created with the minimum and maximum value of x-axis and the number of points. The number of points are used to determine the resolution of the time-series. \n",
    "    \n",
    "    The batch function outputs a random segment of the time-series. It functions by starting at a random point in the time series and counting upto to the number of points required."
   ]
  },
  {
   "cell_type": "code",
   "execution_count": 2,
   "metadata": {},
   "outputs": [],
   "source": [
    "class SineTimeSeries():\n",
    "    def __init__(self, x_min, x_max, n):\n",
    "        self.xmin = x_min\n",
    "        self.xmax = x_max\n",
    "        self.res = (x_max - x_min)/n\n",
    "        self.x = np.linspace(x_min, x_max, n)\n",
    "        self.y = np.sin(self.x)\n",
    "        \n",
    "    def batch(self, num_points):\n",
    "        # get a random starting point\n",
    "        t_start = self.xmin + np.random.rand(1)*((self.xmax-self.res*num_points) - self.xmin)\n",
    "        \n",
    "        # calculate the ending point with the resolution and number of points\n",
    "        t_end = t_start + self.res*num_points\n",
    "        \n",
    "        # generate the batch\n",
    "        x_batch = np.linspace(t_start, t_end, num_points)\n",
    "        y_batch = np.sin(x_batch)\n",
    "        \n",
    "        return x_batch, y_batch\n",
    "        "
   ]
  },
  {
   "cell_type": "code",
   "execution_count": 3,
   "metadata": {},
   "outputs": [],
   "source": [
    "# create a new time series\n",
    "Ts = SineTimeSeries(0,10,100)"
   ]
  },
  {
   "cell_type": "code",
   "execution_count": 4,
   "metadata": {},
   "outputs": [
    {
     "data": {
      "text/plain": [
       "[<matplotlib.lines.Line2D at 0x22c0c3fd860>]"
      ]
     },
     "execution_count": 4,
     "metadata": {},
     "output_type": "execute_result"
    },
    {
     "data": {
      "image/png": "[encoded data removed]",
      "text/plain": [
       "<matplotlib.figure.Figure at 0x22c0c3fd8d0>"
      ]
     },
     "metadata": {},
     "output_type": "display_data"
    }
   ],
   "source": [
    "# get a random batch\n",
    "x_bat, y_bat = Ts.batch(5)\n",
    "\n",
    "# plot the timeseries\n",
    "mp.plot(Ts.x, Ts.y, 'b-')\n",
    "mp.plot(x_bat, y_bat, 'r-')\n"
   ]
  },
  {
   "cell_type": "markdown",
   "metadata": {},
   "source": [
    "#### LSTM Neural Network\n",
    "        The LSTM neural network has a input layer (Y_old), which accepts 5 old values (this can be modified to any number of past observation values). The label Y, is the correct next value in the sine wave given the previous 5 values.\n",
    "        \n",
    "        The LSTM layer is made up of 256 units. The tf.contrib.rnn.LSTMCell can be replaced with GRUCell, RNNCell or any other relavant cell type. The Projection wrapper, unwraps the LSTM to provide a singe output required by the problem. "
   ]
  },
  {
   "cell_type": "code",
   "execution_count": 5,
   "metadata": {},
   "outputs": [],
   "source": [
    "with tf.variable_scope('input'):\n",
    "    Y_old = tf.placeholder(dtype=tf.float32, shape=[None, 1,  5], name='Y_old')"
   ]
  },
  {
   "cell_type": "code",
   "execution_count": 6,
   "metadata": {},
   "outputs": [],
   "source": [
    "with tf.variable_scope('label'):\n",
    "    Y = tf.placeholder(dtype=tf.float32, shape=[None, 1,  1], name='Y')"
   ]
  },
  {
   "cell_type": "code",
   "execution_count": 7,
   "metadata": {},
   "outputs": [],
   "source": [
    "with tf.variable_scope('lstm'):\n",
    "    lstm = tf.contrib.rnn.OutputProjectionWrapper(\n",
    "        tf.contrib.rnn.LSTMCell(num_units=256, activation=tf.nn.relu), output_size=1)\n",
    "    Y_hat, states = tf.nn.dynamic_rnn(lstm, Y_old, dtype=tf.float32)"
   ]
  },
  {
   "cell_type": "markdown",
   "metadata": {},
   "source": [
    "#### Cost Fuction and Optimizer\n",
    "    The Cost function is MSE between the prediction (Y_hat) and the actual output (Y). \n",
    "    \n",
    "    The optimizer to reduce the cost function is Adam Optimizer."
   ]
  },
  {
   "cell_type": "code",
   "execution_count": 8,
   "metadata": {},
   "outputs": [],
   "source": [
    "# cost function\n",
    "with tf.variable_scope('cost'):\n",
    "    cost = tf.reduce_mean(tf.squared_difference(Y_hat, Y))"
   ]
  },
  {
   "cell_type": "code",
   "execution_count": 9,
   "metadata": {},
   "outputs": [],
   "source": [
    "# Optimizers\n",
    "learning_rate = 0.0001\n",
    "with tf.variable_scope('train'):\n",
    "    optimizer = tf.train.AdamOptimizer(learning_rate).minimize(cost)"
   ]
  },
  {
   "cell_type": "markdown",
   "metadata": {},
   "source": [
    "#### Run Session and predict the output\n",
    "    Run the session by feeding in the random batches of Y_old values and correct Y labels. \n",
    "    \n",
    "    After the network is trained, we feed the network with sequential values of sine wave and let the network predict the next value"
   ]
  },
  {
   "cell_type": "code",
   "execution_count": 11,
   "metadata": {},
   "outputs": [
    {
     "name": "stdout",
     "output_type": "stream",
     "text": [
      "Epoch: 0 Training: 0.026905915\n",
      "Epoch: 500 Training: 2.623128e-05\n",
      "Epoch: 1000 Training: 0.11739983\n",
      "Epoch: 1500 Training: 0.100094095\n",
      "Epoch: 2000 Training: 0.005294033\n",
      "Epoch: 2500 Training: 0.0015322511\n",
      "Epoch: 3000 Training: 0.0042528166\n",
      "Epoch: 3500 Training: 0.042106483\n",
      "Epoch: 4000 Training: 2.7427555e-05\n",
      "Epoch: 4500 Training: 0.0022955884\n",
      "Epoch: 5000 Training: 0.00025951274\n",
      "Epoch: 5500 Training: 3.0932613e-05\n",
      "Epoch: 6000 Training: 4.3222634e-09\n",
      "Epoch: 6500 Training: 7.520811e-06\n",
      "Epoch: 7000 Training: 0.00019189772\n",
      "Epoch: 7500 Training: 3.5359648e-05\n",
      "Epoch: 8000 Training: 5.5190983e-05\n",
      "Epoch: 8500 Training: 3.2088898e-05\n",
      "Epoch: 9000 Training: 0.0004295113\n",
      "Epoch: 9500 Training: 3.5587203e-05\n"
     ]
    }
   ],
   "source": [
    "with tf.Session() as session:\n",
    "    session.run(tf.global_variables_initializer())\n",
    "    \n",
    "    # run the training loop\n",
    "    for i in range(0, 10000):\n",
    "        # get the inputs for this batch\n",
    "        _, y_bat = Ts.batch(6)\n",
    "        y_old_in = y_bat[:-1].reshape(-1, 1, 5)\n",
    "        y_in = y_bat[-1].reshape(-1, 1, 1)\n",
    "        \n",
    "        # feed the inputs\n",
    "        session.run(optimizer, feed_dict={Y_old:y_old_in, Y:y_in})\n",
    "\n",
    "        # get the current training cost\n",
    "        if i%500 == 0:\n",
    "            training_cost = session.run(cost, feed_dict={Y_old:y_old_in, Y:y_in})\n",
    "            print(\"Epoch:\", i, \"Training:\", training_cost)\n",
    "            \n",
    "    # perfrom prediction\n",
    "    x_out = np.zeros((len(Ts.y)-6, 1)).flatten()\n",
    "    y_out = np.zeros((len(Ts.y)-6, 1)).flatten()\n",
    "    for i in range(0, len(Ts.y)-6):\n",
    "        y_old_in = Ts.y[i:i+5].reshape(-1, 1, 5)\n",
    "        x_out[i] = Ts.x[i+6]\n",
    "        y_out[i] = session.run(Y_hat, feed_dict={Y_old:y_old_in})"
   ]
  },
  {
   "cell_type": "code",
   "execution_count": 14,
   "metadata": {},
   "outputs": [
    {
     "data": {
      "text/plain": [
       "<matplotlib.legend.Legend at 0x22c27a1a940>"
      ]
     },
     "execution_count": 14,
     "metadata": {},
     "output_type": "execute_result"
    },
    {
     "data": {
      "image/png": "[encoded data removed]",
      "text/plain": [
       "<matplotlib.figure.Figure at 0x22c147f9160>"
      ]
     },
     "metadata": {},
     "output_type": "display_data"
    }
   ],
   "source": [
    "mp.plot(x_out, y_out,'r*', label='LSTM prediction')\n",
    "mp.plot(Ts.x, Ts.y, 'b-', label='Original timeseries')\n",
    "mp.legend()"
   ]
  },
  {
   "cell_type": "code",
   "execution_count": null,
   "metadata": {},
   "outputs": [],
   "source": []
  }
 ],
 "metadata": {
  "kernelspec": {
   "display_name": "Python 3",
   "language": "python",
   "name": "python3"
  },
  "language_info": {
   "codemirror_mode": {
    "name": "ipython",
    "version": 3
   },
   "file_extension": ".py",
   "mimetype": "text/x-python",
   "name": "python",
   "nbconvert_exporter": "python",
   "pygments_lexer": "ipython3",
   "version": "3.5.4"
  }
 },
 "nbformat": 4,
 "nbformat_minor": 2
}
